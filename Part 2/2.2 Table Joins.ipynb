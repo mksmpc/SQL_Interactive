{
 "cells": [
  {
   "cell_type": "markdown",
   "id": "9f1d852c",
   "metadata": {},
   "source": [
    "# 2.2 Запросы на выборку, соединение таблиц"
   ]
  },
  {
   "cell_type": "markdown",
   "id": "cf7887ef",
   "metadata": {},
   "source": [
    "## Инициализация БД"
   ]
  },
  {
   "cell_type": "code",
   "execution_count": 1,
   "id": "df1514b0",
   "metadata": {
    "scrolled": false
   },
   "outputs": [
    {
     "data": {
      "text/plain": [
       "'Connected: @stepik.db'"
      ]
     },
     "execution_count": 1,
     "metadata": {},
     "output_type": "execute_result"
    }
   ],
   "source": [
    "%load_ext sql\n",
    "import sqlalchemy\n",
    "engine = sqlalchemy.create_engine('sqlite:///stepik.db')\n",
    "%sql sqlite:///stepik.db"
   ]
  },
  {
   "cell_type": "code",
   "execution_count": 2,
   "id": "85fd0a42",
   "metadata": {
    "scrolled": true
   },
   "outputs": [],
   "source": [
    "# Подключение помощника по работе с учебными таблицами\n",
    "import sys\n",
    "sys.path.append('../helpers')\n",
    "import tableHelper as th\n",
    "th.setEngine(engine)"
   ]
  },
  {
   "cell_type": "markdown",
   "id": "12012e67",
   "metadata": {},
   "source": [
    "***"
   ]
  },
  {
   "cell_type": "markdown",
   "id": "0447ce94",
   "metadata": {},
   "source": [
    "# Теория"
   ]
  },
  {
   "cell_type": "markdown",
   "id": "83f10b5f",
   "metadata": {},
   "source": [
    "## Один ко многим"
   ]
  },
  {
   "cell_type": "markdown",
   "id": "c7723d94",
   "metadata": {},
   "source": [
    "Связь __«один ко многим»__ имеет место, когда одной записи главной таблицы соответствует несколько записей связанной таблицы, а каждой записи связанной таблицы соответствует только одна запись главной таблицы. Обозначается это так:\n",
    "\n",
    "![](https://ucarecdn.com/3a1dee13-b46f-476e-82ee-d3c0a99ef729/)\n",
    "\n",
    "__Этапы реализации связи «один ко многим»__ на следующем примере:\n",
    "\n",
    "Один автор может написать несколько книг, а одна книга написана только одним автором. Для каждой книги известны ее количество и цена.\n",
    "\n",
    "1. Создать таблицу `author`, в которую включить уникальных авторов книг, хранящихся на складе:  \n",
    "\n",
    "![](https://ucarecdn.com/ebb2959d-32be-4d80-8855-abe8ce6ec4cb/)\n",
    "\n",
    "2. Обе таблицы должны содержать первичный ключ, в таблице `book` он уже есть, в таблицу `author` добавим ключ `author_id`:\n",
    "\n",
    "![](https://ucarecdn.com/88d82e42-3e5b-4e9a-b8e0-78f27f348b1b/)\n",
    "\n",
    "3. Включить в таблицу `book` связанный столбец (внешний ключ, `FOREIGN KEY`), соответствующий по имени и типу ключевому столбцу главной таблицы (в нашем случае это столбец `author_id`). Для наглядности связь на схеме обозначается стрелкой от ключевого столбца главной таблицы к внешнему ключу связной таблицы:\n",
    "\n",
    "![](https://ucarecdn.com/d504072b-bad1-4040-8f49-f5b7102fa1ca/)"
   ]
  },
  {
   "cell_type": "markdown",
   "id": "f3e1fc74",
   "metadata": {},
   "source": [
    "## Многие ко многим"
   ]
  },
  {
   "cell_type": "markdown",
   "id": "2e8dbff4",
   "metadata": {},
   "source": [
    "Связь __«многие ко многим»__ имеет место когда каждой записи одной таблицы соответствует несколько записей во второй, и наоборот, каждой записи второй таблицы соответствует несколько записей в первой. Обозначается это так:\n",
    "\n",
    "![](https://ucarecdn.com/e53a7a38-0b4e-4705-b07e-209dd8074e49/)\n",
    "\n",
    "__Этапы реализации связи «многие ко многим»__ на следующем примере:\n",
    "\n",
    "Один автор может написать несколько книг, а одна книга может быть написана _несколькими_ авторами. Для каждой книги известны ее количество и цена.\n",
    "\n",
    "1. Создать таблицу `author`, в которую включить уникальных авторов книг, хранящихся на складе:  \n",
    "\n",
    "![](https://ucarecdn.com/3762c894-7798-4ff7-a254-4068635de34e/)\n",
    "\n",
    "2. В обеих таблицах необходимо определить первичный ключ, в нашем случае в таблице `book` он уже есть, поэтому достаточно включить первичный ключ `author_id` в таблицу `author`:\n",
    "\n",
    "![](https://ucarecdn.com/961abd2a-0a7c-42c4-ab52-b4e9cb2d9ceb/)\n",
    "\n",
    "3.  Создать новую таблицу-связку, состоящую из двух столбцов, соответствующих по имени и типу ключевым столбцам исходных таблиц. Каждый из этих столбцов является внешним ключом (`FOREIGN KEY`)  и связан с ключевым столбцом каждой таблицы. Для наглядности связи на схеме обозначаются стрелкой от ключевого столбца исходной таблицы к внешнему ключу связной таблицы.\n",
    "\n",
    "![](https://ucarecdn.com/6943bc53-bbe5-410b-9264-00b20eb0f017/)\n",
    "\n",
    "4. Дальше необходимо определиться с первичным ключом таблицы-связки. Можно сделать два ключевых столбца, тогда все записи в этой таблице должны быть уникальными, то есть не повторяться. Для связи автор-книга этот вариант подходит. Но в некоторых случаях записи в таблице-связке могут повторяться, например, если мы будем продавать книги покупателям (один человек может купить несколько книг, а одну и ту же книгу могут купить несколько человек). Тогда в таблицу-связку включают дополнительные столбцы для идентификации записей, например, дату продажи, также в таблицу-связку добавляют первичный ключ. Мы воспользуемся вторым способом:\n",
    "\n",
    "![](https://ucarecdn.com/9e4529dc-355a-4675-a782-a824fd11d4ce/)"
   ]
  },
  {
   "cell_type": "markdown",
   "id": "0ae0840f",
   "metadata": {},
   "source": [
    "# Упражнения"
   ]
  },
  {
   "cell_type": "markdown",
   "id": "41246f3f",
   "metadata": {},
   "source": [
    "### Задание 1."
   ]
  },
  {
   "cell_type": "markdown",
   "id": "56cca2cf",
   "metadata": {},
   "source": [
    "Создать таблицу `author` следующей структуры:"
   ]
  },
  {
   "cell_type": "markdown",
   "id": "60712517",
   "metadata": {},
   "source": [
    "| Поле | Описание |\n",
    "|:---:|:---:|\n",
    "| author_id\t| INT PRIMARY KEY AUTO_INCREMENT |\n",
    "|name_author | VARCHAR(50) |"
   ]
  },
  {
   "cell_type": "code",
   "execution_count": 4,
   "id": "654f7603",
   "metadata": {},
   "outputs": [
    {
     "name": "stdout",
     "output_type": "stream",
     "text": [
      " * sqlite:///stepik.db\n",
      "Done.\n"
     ]
    },
    {
     "data": {
      "text/plain": [
       "[]"
      ]
     },
     "execution_count": 4,
     "metadata": {},
     "output_type": "execute_result"
    }
   ],
   "source": [
    "%%sql\n",
    "CREATE TABLE author (\n",
    "       author_id   INTEGER PRIMARY KEY,\n",
    "       name_author VARCHAR(50))"
   ]
  },
  {
   "cell_type": "code",
   "execution_count": 6,
   "id": "1f40aa63",
   "metadata": {},
   "outputs": [],
   "source": [
    "author = th.CSVfromDB('author', 'tables/author.csv')"
   ]
  },
  {
   "cell_type": "markdown",
   "id": "ba0cecf0",
   "metadata": {},
   "source": [
    "### Задание 1"
   ]
  },
  {
   "cell_type": "markdown",
   "id": "e97a054d",
   "metadata": {},
   "source": [
    "Заполнить таблицу `author`. В нее включить следующих авторов:\n",
    "- Булгаков М.А.\n",
    "- Достоевский Ф.М.\n",
    "- Есенин С.А.\n",
    "- Пастернак Б.Л."
   ]
  },
  {
   "cell_type": "markdown",
   "id": "f340b415",
   "metadata": {},
   "source": [
    "| Поле | Описание |\n",
    "|:---:|:---:|\n",
    "| author_id\t| INT PRIMARY KEY AUTO_INCREMENT |\n",
    "|name_author | VARCHAR(50) |"
   ]
  },
  {
   "cell_type": "code",
   "execution_count": 8,
   "id": "493f50cf",
   "metadata": {},
   "outputs": [
    {
     "name": "stdout",
     "output_type": "stream",
     "text": [
      " * sqlite:///stepik.db\n",
      "4 rows affected.\n"
     ]
    },
    {
     "data": {
      "text/plain": [
       "[]"
      ]
     },
     "execution_count": 8,
     "metadata": {},
     "output_type": "execute_result"
    }
   ],
   "source": [
    "%%sql\n",
    "INSERT INTO author (name_author)\n",
    "VALUES (\"Булгаков М.А.\"),\n",
    "       (\"Достоевский Ф.М.\"),\n",
    "       (\"Есенин С.А.\"),\n",
    "       (\"Пастернак Б.Л.\")"
   ]
  },
  {
   "cell_type": "code",
   "execution_count": 10,
   "id": "e389bd52",
   "metadata": {},
   "outputs": [],
   "source": [
    "author.save()"
   ]
  },
  {
   "cell_type": "markdown",
   "id": "3390fead",
   "metadata": {},
   "source": [
    "## Создание таблицы с внешними ключами `FOREIGN KEY`, `REFERENCES`"
   ]
  },
  {
   "cell_type": "markdown",
   "id": "6951fa2d",
   "metadata": {},
   "source": [
    "При создании зависимой таблицы (таблицы, которая содержит внешние ключи) необходимо учитывать, что :\n",
    "\n",
    "каждый внешний ключ должен иметь такой же тип данных, как связанное поле главной таблицы (в наших примерах это `INT`);\n",
    "необходимо указать главную для нее таблицу и столбец, по которому осуществляется связь:\n",
    "\n",
    ">`FOREIGN KEY (связанное_поле_зависимой_таблицы)  \n",
    "REFERENCES главная_таблица (связанное_поле_главной_таблицы)`\n",
    "\n",
    "По умолчанию любой столбец, кроме ключевого, может содержать значение `NULL`. При создании таблицы это можно переопределить,  используя  ограничение `NOT NULL` для этого столбца:\n",
    "\n",
    ">`CREATE TABLE таблица (\n",
    "    столбец_1 INT NOT NULL, \n",
    "    столбец_2 VARCHAR(10) \n",
    ");`\n",
    "\n",
    "В созданной таблице в `столбец_1` не может содержать пустое значение, а `столбец_2` - может.\n",
    "\n",
    "Для внешних ключей рекомендуется устанавливать ограничение `NOT NULL` (если это совместимо с другими опциями, которые будут рассмотрены в следующем шаге)."
   ]
  },
  {
   "cell_type": "markdown",
   "id": "48be54d1",
   "metadata": {},
   "source": [
    "__Пример__\n",
    "\n",
    "Создать таблицу `book` следующей структуры:"
   ]
  },
  {
   "cell_type": "markdown",
   "id": "f7c87de6",
   "metadata": {},
   "source": [
    "| Поле | Тип, описание | Связи |\n",
    "|:---:|:---:|:---:|\n",
    "| book_id | INT PRIMARY KEY AUTO_INCREMENT |   |\n",
    "| title | VARCHAR(50) |   |\n",
    "| author_id | INT  | внешний ключ: главная таблица `author`, связанный столбец `author.author_id`, пустое значение не допускается |\n",
    "| price | DECIMAL(8, 2) |   |\n",
    "| amount | INT |   |"
   ]
  },
  {
   "cell_type": "markdown",
   "id": "90c5e501",
   "metadata": {},
   "source": [
    "Запрос:\n",
    "\n",
    ">`CREATE TABLE book (  \n",
    "    book_id INT PRIMARY KEY AUTO_INCREMENT,  \n",
    "    title VARCHAR(50),  \n",
    "    author_id INT NOT NULL,  \n",
    "    price DECIMAL(8,2),  \n",
    "    amount INT,  \n",
    "    FOREIGN KEY (author_id)  REFERENCES author (author_id)  \n",
    ");`"
   ]
  },
  {
   "cell_type": "markdown",
   "id": "8f855a04",
   "metadata": {},
   "source": [
    "### Задание 2"
   ]
  },
  {
   "cell_type": "markdown",
   "id": "c6146328",
   "metadata": {},
   "source": [
    "Перепишите запрос на создание таблицы `book`, чтобы ее структура соответствовала структуре, показанной на логической схеме (таблица `genre` уже создана, порядок следования столбцов - как на логической схеме в таблице `book`, `genre_id` - внешний ключ) . Для `genre_id` ограничение о недопустимости пустых значений не задавать. В качестве главной таблицы для описания поля  `genre_id` использовать таблицу `genre` следующей структуры:"
   ]
  },
  {
   "cell_type": "markdown",
   "id": "cff918a6",
   "metadata": {},
   "source": [
    "| Поле | Тип, описание |\n",
    "|:---:|:---:|\n",
    "| genre_id | INT PRIMARY KEY AUTO_INCREMENT |\n",
    "| name_genre | VARCHAR(30) |"
   ]
  },
  {
   "cell_type": "code",
   "execution_count": 11,
   "id": "41430ff3",
   "metadata": {},
   "outputs": [
    {
     "name": "stdout",
     "output_type": "stream",
     "text": [
      " * sqlite:///stepik.db\n",
      "Done.\n"
     ]
    },
    {
     "data": {
      "text/plain": [
       "[]"
      ]
     },
     "execution_count": 11,
     "metadata": {},
     "output_type": "execute_result"
    }
   ],
   "source": [
    "%%sql\n",
    "CREATE TABLE genre (\n",
    "       genre_id   INTEGER PRIMARY KEY,\n",
    "       name_genre VARCHAR(30))"
   ]
  },
  {
   "cell_type": "code",
   "execution_count": 12,
   "id": "8c39c7c4",
   "metadata": {},
   "outputs": [],
   "source": [
    "genre = th.CSVfromDB('genre', 'tables/genre.csv')"
   ]
  },
  {
   "cell_type": "markdown",
   "id": "943fa501",
   "metadata": {},
   "source": [
    "__Логическая схема__ (нужно создать только таблицу `book`):\n",
    "\n",
    "![](https://ucarecdn.com/95045d96-412d-4e10-88f2-7ac6b13fada6/)"
   ]
  },
  {
   "cell_type": "code",
   "execution_count": 21,
   "id": "307f01f2",
   "metadata": {},
   "outputs": [
    {
     "name": "stdout",
     "output_type": "stream",
     "text": [
      " * sqlite:///stepik.db\n",
      "Done.\n",
      "Done.\n",
      "Done.\n"
     ]
    },
    {
     "data": {
      "text/html": [
       "<table>\n",
       "    <thead>\n",
       "        <tr>\n",
       "            <th>cid</th>\n",
       "            <th>name</th>\n",
       "            <th>type</th>\n",
       "            <th>notnull</th>\n",
       "            <th>dflt_value</th>\n",
       "            <th>pk</th>\n",
       "        </tr>\n",
       "    </thead>\n",
       "    <tbody>\n",
       "        <tr>\n",
       "            <td>0</td>\n",
       "            <td>book_id</td>\n",
       "            <td>INTEGER</td>\n",
       "            <td>0</td>\n",
       "            <td>None</td>\n",
       "            <td>1</td>\n",
       "        </tr>\n",
       "        <tr>\n",
       "            <td>1</td>\n",
       "            <td>title</td>\n",
       "            <td>VARCHAR(50)</td>\n",
       "            <td>0</td>\n",
       "            <td>None</td>\n",
       "            <td>0</td>\n",
       "        </tr>\n",
       "        <tr>\n",
       "            <td>2</td>\n",
       "            <td>author_id</td>\n",
       "            <td>INTEGER</td>\n",
       "            <td>1</td>\n",
       "            <td>None</td>\n",
       "            <td>0</td>\n",
       "        </tr>\n",
       "        <tr>\n",
       "            <td>3</td>\n",
       "            <td>genre_id</td>\n",
       "            <td>INTEGER</td>\n",
       "            <td>0</td>\n",
       "            <td>None</td>\n",
       "            <td>0</td>\n",
       "        </tr>\n",
       "        <tr>\n",
       "            <td>4</td>\n",
       "            <td>price</td>\n",
       "            <td>DECIMAL(8,2)</td>\n",
       "            <td>0</td>\n",
       "            <td>None</td>\n",
       "            <td>0</td>\n",
       "        </tr>\n",
       "        <tr>\n",
       "            <td>5</td>\n",
       "            <td>amount</td>\n",
       "            <td>INTEGER</td>\n",
       "            <td>0</td>\n",
       "            <td>None</td>\n",
       "            <td>0</td>\n",
       "        </tr>\n",
       "    </tbody>\n",
       "</table>"
      ],
      "text/plain": [
       "[(0, 'book_id', 'INTEGER', 0, None, 1),\n",
       " (1, 'title', 'VARCHAR(50)', 0, None, 0),\n",
       " (2, 'author_id', 'INTEGER', 1, None, 0),\n",
       " (3, 'genre_id', 'INTEGER', 0, None, 0),\n",
       " (4, 'price', 'DECIMAL(8,2)', 0, None, 0),\n",
       " (5, 'amount', 'INTEGER', 0, None, 0)]"
      ]
     },
     "execution_count": 21,
     "metadata": {},
     "output_type": "execute_result"
    }
   ],
   "source": [
    "%%sql\n",
    "DROP TABLE IF EXISTS book;\n",
    "\n",
    "CREATE TABLE book (  \n",
    "    book_id   INTEGER PRIMARY KEY,  \n",
    "    title     VARCHAR(50),  \n",
    "    author_id INTEGER NOT NULL,  \n",
    "    genre_id  INTEGER,  \n",
    "    price     DECIMAL(8,2),  \n",
    "    amount    INTEGER,  \n",
    "    FOREIGN KEY (author_id)  REFERENCES author (author_id),  \n",
    "    FOREIGN KEY (genre_id)   REFERENCES genre (genre_id)  \n",
    ");\n",
    "\n",
    "PRAGMA table_info(book)"
   ]
  },
  {
   "cell_type": "code",
   "execution_count": 3,
   "id": "cb9fac36",
   "metadata": {},
   "outputs": [],
   "source": [
    "book = th.CSVfromDB('book')"
   ]
  },
  {
   "cell_type": "markdown",
   "id": "15fc9978",
   "metadata": {},
   "source": [
    "<h2>Действия при удалении записи главной таблицы <code>ON DELETE</code></h2>\n",
    "\n",
    "<p>С помощью выражения<strong> </strong><code>ON DELETE</code> можно установить действия, которые выполняются для записей подчиненной таблицы при удалении связанной строки из главной таблицы. При удалении можно установить следующие опции:</p>\n",
    "\n",
    "<ul>\n",
    "\t<li><code>CASCADE</code>: автоматически удаляет строки из зависимой таблицы при удалении связанных строк в главной таблице.</li>\n",
    "\t<li><code>SET NULL</code>: при удалении  связанной строки из главной таблицы устанавливает для столбца внешнего ключа значение <strong><code>NULL</code></strong>. (В этом случае столбец внешнего ключа должен поддерживать установку<code><strong> NULL</strong></code>).</li>\n",
    "\t<li><code>SET DEFAULT</code> похоже на <code>SET NULL</code> за тем исключением, что значение  внешнего ключа устанавливается не в <code>NULL,</code> а в значение по умолчанию для данного столбца.</li>\n",
    "\t<li><code>RESTRICT</code>: отклоняет удаление строк в главной таблице при наличии связанных строк в зависимой таблице.</li>\n",
    "</ul>\n",
    "\n",
    "<p><strong>Важно! </strong>Если для столбца установлена опция <code>SET NULL</code>, то при его описании нельзя задать ограничение на пустое значение.</p>\n",
    "\n",
    "<p><strong>Пример</strong></p>\n",
    "\n",
    "<p>Будем считать, что при удалении автора из таблицы <code><strong>author</strong></code>, необходимо удалить все записи о книгах из таблицы <code><strong>book</strong></code>, написанные этим автором. Данное действие необходимо прописать при создании таблицы.</p>\n",
    "\n",
    "<p><em>Запрос:</em></p>\n",
    "\n",
    "<pre><code class=\"language-sql hljs\"><span class=\"hljs-keyword\">CREATE</span> <span class=\"hljs-keyword\">TABLE</span> book (\n",
    "    book_id <span class=\"hljs-built_in\">INT</span> PRIMARY <span class=\"hljs-keyword\">KEY</span> AUTO_INCREMENT, \n",
    "    title <span class=\"hljs-built_in\">VARCHAR</span>(<span class=\"hljs-number\">50</span>), \n",
    "    author_id <span class=\"hljs-built_in\">INT</span> <span class=\"hljs-keyword\">NOT</span> <span class=\"hljs-literal\">NULL</span>, \n",
    "    price <span class=\"hljs-built_in\">DECIMAL</span>(<span class=\"hljs-number\">8</span>,<span class=\"hljs-number\">2</span>), \n",
    "    amount <span class=\"hljs-built_in\">INT</span>, \n",
    "    FOREIGN <span class=\"hljs-keyword\">KEY</span> (author_id)  <span class=\"hljs-keyword\">REFERENCES</span> author (author_id) <span class=\"hljs-keyword\">ON</span> <span class=\"hljs-keyword\">DELETE</span> <span class=\"hljs-keyword\">CASCADE</span>\n",
    ");</code></pre>"
   ]
  },
  {
   "cell_type": "markdown",
   "id": "30a3d8ec",
   "metadata": {},
   "source": [
    "### Задание 3"
   ]
  },
  {
   "cell_type": "markdown",
   "id": "cc7d0a3d",
   "metadata": {},
   "source": [
    "Создать таблицу `book` той же структуры, что и на предыдущем шаге.  \n",
    "Будем считать, что при удалении автора из таблицы `author`, должны удаляться все записи о книгах из таблицы `book`, написанные этим автором. \n",
    "А при удалении жанра из таблицы genre для соответствующей записи `book` установить значение `Null` в столбце `genre_id`. "
   ]
  },
  {
   "cell_type": "code",
   "execution_count": 14,
   "id": "775c11c5",
   "metadata": {},
   "outputs": [
    {
     "name": "stdout",
     "output_type": "stream",
     "text": [
      " * sqlite:///stepik.db\n",
      "Done.\n",
      "Done.\n",
      "Done.\n"
     ]
    },
    {
     "data": {
      "text/html": [
       "<table>\n",
       "    <thead>\n",
       "        <tr>\n",
       "            <th>cid</th>\n",
       "            <th>name</th>\n",
       "            <th>type</th>\n",
       "            <th>notnull</th>\n",
       "            <th>dflt_value</th>\n",
       "            <th>pk</th>\n",
       "        </tr>\n",
       "    </thead>\n",
       "    <tbody>\n",
       "        <tr>\n",
       "            <td>0</td>\n",
       "            <td>book_id</td>\n",
       "            <td>INTEGER</td>\n",
       "            <td>0</td>\n",
       "            <td>None</td>\n",
       "            <td>1</td>\n",
       "        </tr>\n",
       "        <tr>\n",
       "            <td>1</td>\n",
       "            <td>title</td>\n",
       "            <td>VARCHAR(50)</td>\n",
       "            <td>0</td>\n",
       "            <td>None</td>\n",
       "            <td>0</td>\n",
       "        </tr>\n",
       "        <tr>\n",
       "            <td>2</td>\n",
       "            <td>author_id</td>\n",
       "            <td>INTEGER</td>\n",
       "            <td>1</td>\n",
       "            <td>None</td>\n",
       "            <td>0</td>\n",
       "        </tr>\n",
       "        <tr>\n",
       "            <td>3</td>\n",
       "            <td>genre_id</td>\n",
       "            <td>INTEGER</td>\n",
       "            <td>0</td>\n",
       "            <td>None</td>\n",
       "            <td>0</td>\n",
       "        </tr>\n",
       "        <tr>\n",
       "            <td>4</td>\n",
       "            <td>price</td>\n",
       "            <td>DECIMAL(8,2)</td>\n",
       "            <td>0</td>\n",
       "            <td>None</td>\n",
       "            <td>0</td>\n",
       "        </tr>\n",
       "        <tr>\n",
       "            <td>5</td>\n",
       "            <td>amount</td>\n",
       "            <td>INTEGER</td>\n",
       "            <td>0</td>\n",
       "            <td>None</td>\n",
       "            <td>0</td>\n",
       "        </tr>\n",
       "    </tbody>\n",
       "</table>"
      ],
      "text/plain": [
       "[(0, 'book_id', 'INTEGER', 0, None, 1),\n",
       " (1, 'title', 'VARCHAR(50)', 0, None, 0),\n",
       " (2, 'author_id', 'INTEGER', 1, None, 0),\n",
       " (3, 'genre_id', 'INTEGER', 0, None, 0),\n",
       " (4, 'price', 'DECIMAL(8,2)', 0, None, 0),\n",
       " (5, 'amount', 'INTEGER', 0, None, 0)]"
      ]
     },
     "execution_count": 14,
     "metadata": {},
     "output_type": "execute_result"
    }
   ],
   "source": [
    "%%sql\n",
    "DROP TABLE IF EXISTS book;\n",
    "\n",
    "CREATE TABLE book (  \n",
    "    book_id   INTEGER PRIMARY KEY,  \n",
    "    title     VARCHAR(50),  \n",
    "    author_id INTEGER NOT NULL,  \n",
    "    genre_id  INTEGER,  \n",
    "    price     DECIMAL(8,2),  \n",
    "    amount    INTEGER,  \n",
    "    FOREIGN KEY (author_id)  REFERENCES author (author_id) ON DELETE CASCADE,  \n",
    "    FOREIGN KEY (genre_id)   REFERENCES genre (genre_id) ON DELETE SET NULL  \n",
    ");\n",
    "\n",
    "PRAGMA table_info(book)"
   ]
  },
  {
   "cell_type": "markdown",
   "id": "4070239a",
   "metadata": {},
   "source": [
    "### Задание 4"
   ]
  },
  {
   "cell_type": "markdown",
   "id": "fbfb05ec",
   "metadata": {},
   "source": [
    "Для каждой строки таблицы `book` занесите значения в поля `author_id` и `genre_id`. Считать, что книга Есенина относится к жанру «Поэзия», остальные книги – к жанру «Роман».\n",
    "\n",
    "Авторы и их произведения:"
   ]
  },
  {
   "cell_type": "markdown",
   "id": "b7123dac",
   "metadata": {},
   "source": [
    "| Название книги | Автор | Цена | Количество |\n",
    "|:---:|:---:|:---:|:---:|\n",
    "| Мастер и Маргарита | Булгаков М.А. | 670.99 | 3 |\n",
    "| Белая гвардия | Булгаков М.А. | 540.50 | 5 |\n",
    "| Идиот | Достоевский Ф.М. | 460.00 | 10 |\n",
    "| Братья Карамазовы | Достоевский Ф.М. | 799.01 | 3 |\n",
    "| Игрок | Достоевский Ф.М. | 480.50 | 10 |\n",
    "| Стихотворения и поэмы | Есенин С.А. | 650.00 | 15 |"
   ]
  },
  {
   "cell_type": "code",
   "execution_count": 9,
   "id": "c681e96d",
   "metadata": {},
   "outputs": [],
   "source": [
    "author = th.Table('author')"
   ]
  },
  {
   "cell_type": "code",
   "execution_count": 7,
   "id": "c1be6f7a",
   "metadata": {},
   "outputs": [],
   "source": [
    "book = th.Table('book')"
   ]
  },
  {
   "cell_type": "code",
   "execution_count": 16,
   "id": "6714e900",
   "metadata": {},
   "outputs": [],
   "source": [
    "book_init = th.Table('book_init', 'tables/book_init.csv', 'schemas/book_schema.csv')"
   ]
  },
  {
   "cell_type": "code",
   "execution_count": 19,
   "id": "ee9ab156",
   "metadata": {},
   "outputs": [
    {
     "data": {
      "text/plain": [
       "__name__ = book_init\n",
       "__path__ = tables/book_init.csv\n",
       " book_id                 title           author  price  amount\n",
       "       1    Мастер и Маргарита    Булгаков М.А. 670.99       3\n",
       "       2         Белая гвардия    Булгаков М.А. 540.50       5\n",
       "       3                 Идиот Достоевский Ф.М. 460.00      10\n",
       "       4     Братья Карамазовы Достоевский Ф.М. 799.01       3\n",
       "       5                 Игрок Достоевский Ф.М. 480.50      10\n",
       "       6 Стихотворения и поэмы      Есенин С.А. 650.00      15"
      ]
     },
     "execution_count": 19,
     "metadata": {},
     "output_type": "execute_result"
    }
   ],
   "source": [
    "book_init"
   ]
  },
  {
   "cell_type": "code",
   "execution_count": 6,
   "id": "d997263b",
   "metadata": {},
   "outputs": [
    {
     "name": "stdout",
     "output_type": "stream",
     "text": [
      " * sqlite:///stepik.db\n",
      "6 rows affected.\n"
     ]
    },
    {
     "data": {
      "text/plain": [
       "[]"
      ]
     },
     "execution_count": 6,
     "metadata": {},
     "output_type": "execute_result"
    }
   ],
   "source": [
    "%%sql\n",
    "INSERT INTO book\n",
    "SELECT book_id, title, \n",
    "       a.author_id,\n",
    "       IIF(b.author = 'Есенин С.А.', 2, 1) AS genre_id,\n",
    "       price, amount\n",
    "  FROM book_init AS b, author AS a\n",
    " WHERE b.author = a.name_author"
   ]
  },
  {
   "cell_type": "code",
   "execution_count": 8,
   "id": "43d899ef",
   "metadata": {
    "scrolled": true
   },
   "outputs": [
    {
     "data": {
      "text/plain": [
       "__name__ = book\n",
       "__path__ = tables/book.csv\n",
       "Table in DataBase:\n",
       " book_id                 title  author_id  genre_id  price  amount\n",
       "       1    Мастер и Маргарита          1         1 670.99       3\n",
       "       2         Белая гвардия          1         1 540.50       5\n",
       "       3                 Идиот          2         1 460.00      10\n",
       "       4     Братья Карамазовы          2         1 799.01       3\n",
       "       5                 Игрок          2         1 480.50      10\n",
       "       6 Стихотворения и поэмы          3         2 650.00      15"
      ]
     },
     "execution_count": 8,
     "metadata": {},
     "output_type": "execute_result"
    }
   ],
   "source": [
    "book"
   ]
  },
  {
   "cell_type": "code",
   "execution_count": 10,
   "id": "b4d8e5a9",
   "metadata": {
    "scrolled": true
   },
   "outputs": [],
   "source": [
    "genre = th.Table('genre')"
   ]
  }
 ],
 "metadata": {
  "kernelspec": {
   "display_name": "Python 3 (ipykernel)",
   "language": "python",
   "name": "python3"
  },
  "language_info": {
   "codemirror_mode": {
    "name": "ipython",
    "version": 3
   },
   "file_extension": ".py",
   "mimetype": "text/x-python",
   "name": "python",
   "nbconvert_exporter": "python",
   "pygments_lexer": "ipython3",
   "version": "3.9.7"
  }
 },
 "nbformat": 4,
 "nbformat_minor": 5
}
