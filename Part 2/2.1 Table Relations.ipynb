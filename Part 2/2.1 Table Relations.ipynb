{
 "cells": [
  {
   "cell_type": "markdown",
   "id": "9f1d852c",
   "metadata": {},
   "source": [
    "# 2.1 Связи между таблицами"
   ]
  },
  {
   "cell_type": "markdown",
   "id": "6d9ebcfc",
   "metadata": {},
   "source": [
    "---"
   ]
  },
  {
   "cell_type": "markdown",
   "id": "cf7887ef",
   "metadata": {},
   "source": [
    "## Инициализация БД"
   ]
  },
  {
   "cell_type": "code",
   "execution_count": 1,
   "id": "df1514b0",
   "metadata": {
    "scrolled": false
   },
   "outputs": [
    {
     "data": {
      "text/plain": [
       "'Connected: @stepik.db'"
      ]
     },
     "execution_count": 1,
     "metadata": {},
     "output_type": "execute_result"
    }
   ],
   "source": [
    "%load_ext sql\n",
    "import sqlalchemy\n",
    "engine = sqlalchemy.create_engine('sqlite:///stepik.db')\n",
    "%sql sqlite:///stepik.db"
   ]
  },
  {
   "cell_type": "code",
   "execution_count": 2,
   "id": "85fd0a42",
   "metadata": {
    "scrolled": true
   },
   "outputs": [],
   "source": [
    "# Подключение помощника по работе с учебными таблицами\n",
    "import sys\n",
    "sys.path.append('../helpers')\n",
    "import tableHelper as th\n",
    "th.setEngine(engine)"
   ]
  },
  {
   "cell_type": "markdown",
   "id": "12012e67",
   "metadata": {},
   "source": [
    "***"
   ]
  },
  {
   "cell_type": "markdown",
   "id": "0447ce94",
   "metadata": {},
   "source": [
    "# Упражнения"
   ]
  },
  {
   "cell_type": "markdown",
   "id": "41246f3f",
   "metadata": {},
   "source": [
    "### Задание 1. `DESCRIBE`/`PRAGMA table_info()`"
   ]
  },
  {
   "cell_type": "markdown",
   "id": "56cca2cf",
   "metadata": {},
   "source": [
    "Создать таблицу `fine` следующей структуры:"
   ]
  },
  {
   "cell_type": "markdown",
   "id": "60712517",
   "metadata": {},
   "source": [
    "| Поле | Описание |\n",
    "|:---:|:---:|\n",
    "| fine_id | ключевой столбец целого типа с автоматическим увеличением значения ключа на 1 |\n",
    "| name | строка длиной 30 |\n",
    "| number_plate | строка длиной 6 |\n",
    "| violation | строка длиной 50 |\n",
    "| sum_fine | вещественное число, максимальная длина 8, количество знаков после запятой 2 |\n",
    "| date_violation | дата |\n",
    "| date_payment | дата |"
   ]
  },
  {
   "cell_type": "code",
   "execution_count": 28,
   "id": "654f7603",
   "metadata": {},
   "outputs": [
    {
     "name": "stdout",
     "output_type": "stream",
     "text": [
      " * sqlite:///stepik.db\n",
      "Done.\n"
     ]
    },
    {
     "data": {
      "text/plain": [
       "[]"
      ]
     },
     "execution_count": 28,
     "metadata": {},
     "output_type": "execute_result"
    }
   ],
   "source": [
    "%%sql\n",
    "CREATE TABLE fine (\n",
    "       fine_id        INTEGER PRIMARY KEY,\n",
    "       name           VARCHAR(30),\n",
    "       number_plate   VARCHAR(6),\n",
    "       violation      VARCHAR(50),\n",
    "       sum_fine       NUMERIC(8, 2),\n",
    "       date_violation DATE,\n",
    "       date_payment   DATE\n",
    "       )"
   ]
  },
  {
   "cell_type": "code",
   "execution_count": 3,
   "id": "a552b7a3",
   "metadata": {
    "scrolled": true
   },
   "outputs": [
    {
     "name": "stdout",
     "output_type": "stream",
     "text": [
      " * sqlite:///stepik.db\n",
      "Done.\n"
     ]
    },
    {
     "data": {
      "text/html": [
       "<table>\n",
       "    <thead>\n",
       "        <tr>\n",
       "            <th>cid</th>\n",
       "            <th>name</th>\n",
       "            <th>type</th>\n",
       "            <th>notnull</th>\n",
       "            <th>dflt_value</th>\n",
       "            <th>pk</th>\n",
       "        </tr>\n",
       "    </thead>\n",
       "    <tbody>\n",
       "        <tr>\n",
       "            <td>0</td>\n",
       "            <td>fine_id</td>\n",
       "            <td>INTEGER</td>\n",
       "            <td>0</td>\n",
       "            <td>None</td>\n",
       "            <td>1</td>\n",
       "        </tr>\n",
       "        <tr>\n",
       "            <td>1</td>\n",
       "            <td>name</td>\n",
       "            <td>VARCHAR(30)</td>\n",
       "            <td>0</td>\n",
       "            <td>None</td>\n",
       "            <td>0</td>\n",
       "        </tr>\n",
       "        <tr>\n",
       "            <td>2</td>\n",
       "            <td>number_plate</td>\n",
       "            <td>VARCHAR(6)</td>\n",
       "            <td>0</td>\n",
       "            <td>None</td>\n",
       "            <td>0</td>\n",
       "        </tr>\n",
       "        <tr>\n",
       "            <td>3</td>\n",
       "            <td>violation</td>\n",
       "            <td>VARCHAR(50)</td>\n",
       "            <td>0</td>\n",
       "            <td>None</td>\n",
       "            <td>0</td>\n",
       "        </tr>\n",
       "        <tr>\n",
       "            <td>4</td>\n",
       "            <td>sum_fine</td>\n",
       "            <td>NUMERIC(8, 2)</td>\n",
       "            <td>0</td>\n",
       "            <td>None</td>\n",
       "            <td>0</td>\n",
       "        </tr>\n",
       "        <tr>\n",
       "            <td>5</td>\n",
       "            <td>date_violation</td>\n",
       "            <td>DATE</td>\n",
       "            <td>0</td>\n",
       "            <td>None</td>\n",
       "            <td>0</td>\n",
       "        </tr>\n",
       "        <tr>\n",
       "            <td>6</td>\n",
       "            <td>date_payment</td>\n",
       "            <td>DATE</td>\n",
       "            <td>0</td>\n",
       "            <td>None</td>\n",
       "            <td>0</td>\n",
       "        </tr>\n",
       "    </tbody>\n",
       "</table>"
      ],
      "text/plain": [
       "[(0, 'fine_id', 'INTEGER', 0, None, 1),\n",
       " (1, 'name', 'VARCHAR(30)', 0, None, 0),\n",
       " (2, 'number_plate', 'VARCHAR(6)', 0, None, 0),\n",
       " (3, 'violation', 'VARCHAR(50)', 0, None, 0),\n",
       " (4, 'sum_fine', 'NUMERIC(8, 2)', 0, None, 0),\n",
       " (5, 'date_violation', 'DATE', 0, None, 0),\n",
       " (6, 'date_payment', 'DATE', 0, None, 0)]"
      ]
     },
     "execution_count": 3,
     "metadata": {},
     "output_type": "execute_result"
    }
   ],
   "source": [
    "%%sql\n",
    "PRAGMA table_info(fine);"
   ]
  }
 ],
 "metadata": {
  "kernelspec": {
   "display_name": "Python 3 (ipykernel)",
   "language": "python",
   "name": "python3"
  },
  "language_info": {
   "codemirror_mode": {
    "name": "ipython",
    "version": 3
   },
   "file_extension": ".py",
   "mimetype": "text/x-python",
   "name": "python",
   "nbconvert_exporter": "python",
   "pygments_lexer": "ipython3",
   "version": "3.8.12"
  }
 },
 "nbformat": 4,
 "nbformat_minor": 5
}
