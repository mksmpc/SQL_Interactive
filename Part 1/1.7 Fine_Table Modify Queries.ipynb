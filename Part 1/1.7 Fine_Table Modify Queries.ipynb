{
 "cells": [
  {
   "cell_type": "markdown",
   "id": "9f1d852c",
   "metadata": {},
   "source": [
    "# 1.7 Таблица \"Нарушения ПДД\", запросы корректировки"
   ]
  },
  {
   "cell_type": "markdown",
   "id": "6d9ebcfc",
   "metadata": {},
   "source": [
    "---"
   ]
  },
  {
   "cell_type": "markdown",
   "id": "cf7887ef",
   "metadata": {},
   "source": [
    "## Инициализация БД"
   ]
  },
  {
   "cell_type": "code",
   "execution_count": 1,
   "id": "df1514b0",
   "metadata": {
    "scrolled": false
   },
   "outputs": [
    {
     "data": {
      "text/plain": [
       "'Connected: @stepik.db'"
      ]
     },
     "execution_count": 1,
     "metadata": {},
     "output_type": "execute_result"
    }
   ],
   "source": [
    "%load_ext sql\n",
    "import sqlalchemy\n",
    "engine = sqlalchemy.create_engine('sqlite:///stepik.db')\n",
    "%sql sqlite:///stepik.db"
   ]
  },
  {
   "cell_type": "code",
   "execution_count": 2,
   "id": "85fd0a42",
   "metadata": {
    "scrolled": true
   },
   "outputs": [],
   "source": [
    "# Подключение помощника по работе с учебными таблицами\n",
    "import sys\n",
    "sys.path.append('../helpers')\n",
    "import tableHelper as th\n",
    "th.setEngine(engine)"
   ]
  },
  {
   "cell_type": "code",
   "execution_count": 3,
   "id": "f0648d50",
   "metadata": {
    "scrolled": true
   },
   "outputs": [],
   "source": [
    "fine = th.Table('fine', 'tables/fine.csv')\n",
    "traffic_violation = th.Table('traffic_violation', 'tables/traffic_violation.csv')\n",
    "\n",
    "fine.reset()\n",
    "traffic_violation.reset()"
   ]
  },
  {
   "cell_type": "markdown",
   "id": "12012e67",
   "metadata": {},
   "source": [
    "***"
   ]
  },
  {
   "cell_type": "markdown",
   "id": "0447ce94",
   "metadata": {},
   "source": [
    "# Упражнения"
   ]
  },
  {
   "cell_type": "markdown",
   "id": "41246f3f",
   "metadata": {},
   "source": [
    "### Задание 1. `DESCRIBE`/`PRAGMA table_info()`"
   ]
  },
  {
   "cell_type": "markdown",
   "id": "56cca2cf",
   "metadata": {},
   "source": [
    "Создать таблицу `fine` следующей структуры:"
   ]
  },
  {
   "cell_type": "markdown",
   "id": "60712517",
   "metadata": {},
   "source": [
    "| Поле | Описание |\n",
    "|:---:|:---:|\n",
    "| fine_id | ключевой столбец целого типа с автоматическим увеличением значения ключа на 1 |\n",
    "| name | строка длиной 30 |\n",
    "| number_plate | строка длиной 6 |\n",
    "| violation | строка длиной 50 |\n",
    "| sum_fine | вещественное число, максимальная длина 8, количество знаков после запятой 2 |\n",
    "| date_violation | дата |\n",
    "| date_payment | дата |"
   ]
  },
  {
   "cell_type": "code",
   "execution_count": 28,
   "id": "654f7603",
   "metadata": {},
   "outputs": [
    {
     "name": "stdout",
     "output_type": "stream",
     "text": [
      " * sqlite:///stepik.db\n",
      "Done.\n"
     ]
    },
    {
     "data": {
      "text/plain": [
       "[]"
      ]
     },
     "execution_count": 28,
     "metadata": {},
     "output_type": "execute_result"
    }
   ],
   "source": [
    "%%sql\n",
    "CREATE TABLE fine (\n",
    "       fine_id        INTEGER PRIMARY KEY,\n",
    "       name           VARCHAR(30),\n",
    "       number_plate   VARCHAR(6),\n",
    "       violation      VARCHAR(50),\n",
    "       sum_fine       NUMERIC(8, 2),\n",
    "       date_violation DATE,\n",
    "       date_payment   DATE\n",
    "       )"
   ]
  },
  {
   "cell_type": "code",
   "execution_count": 3,
   "id": "a552b7a3",
   "metadata": {
    "scrolled": true
   },
   "outputs": [
    {
     "name": "stdout",
     "output_type": "stream",
     "text": [
      " * sqlite:///stepik.db\n",
      "Done.\n"
     ]
    },
    {
     "data": {
      "text/html": [
       "<table>\n",
       "    <thead>\n",
       "        <tr>\n",
       "            <th>cid</th>\n",
       "            <th>name</th>\n",
       "            <th>type</th>\n",
       "            <th>notnull</th>\n",
       "            <th>dflt_value</th>\n",
       "            <th>pk</th>\n",
       "        </tr>\n",
       "    </thead>\n",
       "    <tbody>\n",
       "        <tr>\n",
       "            <td>0</td>\n",
       "            <td>fine_id</td>\n",
       "            <td>INTEGER</td>\n",
       "            <td>0</td>\n",
       "            <td>None</td>\n",
       "            <td>1</td>\n",
       "        </tr>\n",
       "        <tr>\n",
       "            <td>1</td>\n",
       "            <td>name</td>\n",
       "            <td>VARCHAR(30)</td>\n",
       "            <td>0</td>\n",
       "            <td>None</td>\n",
       "            <td>0</td>\n",
       "        </tr>\n",
       "        <tr>\n",
       "            <td>2</td>\n",
       "            <td>number_plate</td>\n",
       "            <td>VARCHAR(6)</td>\n",
       "            <td>0</td>\n",
       "            <td>None</td>\n",
       "            <td>0</td>\n",
       "        </tr>\n",
       "        <tr>\n",
       "            <td>3</td>\n",
       "            <td>violation</td>\n",
       "            <td>VARCHAR(50)</td>\n",
       "            <td>0</td>\n",
       "            <td>None</td>\n",
       "            <td>0</td>\n",
       "        </tr>\n",
       "        <tr>\n",
       "            <td>4</td>\n",
       "            <td>sum_fine</td>\n",
       "            <td>NUMERIC(8, 2)</td>\n",
       "            <td>0</td>\n",
       "            <td>None</td>\n",
       "            <td>0</td>\n",
       "        </tr>\n",
       "        <tr>\n",
       "            <td>5</td>\n",
       "            <td>date_violation</td>\n",
       "            <td>DATE</td>\n",
       "            <td>0</td>\n",
       "            <td>None</td>\n",
       "            <td>0</td>\n",
       "        </tr>\n",
       "        <tr>\n",
       "            <td>6</td>\n",
       "            <td>date_payment</td>\n",
       "            <td>DATE</td>\n",
       "            <td>0</td>\n",
       "            <td>None</td>\n",
       "            <td>0</td>\n",
       "        </tr>\n",
       "    </tbody>\n",
       "</table>"
      ],
      "text/plain": [
       "[(0, 'fine_id', 'INTEGER', 0, None, 1),\n",
       " (1, 'name', 'VARCHAR(30)', 0, None, 0),\n",
       " (2, 'number_plate', 'VARCHAR(6)', 0, None, 0),\n",
       " (3, 'violation', 'VARCHAR(50)', 0, None, 0),\n",
       " (4, 'sum_fine', 'NUMERIC(8, 2)', 0, None, 0),\n",
       " (5, 'date_violation', 'DATE', 0, None, 0),\n",
       " (6, 'date_payment', 'DATE', 0, None, 0)]"
      ]
     },
     "execution_count": 3,
     "metadata": {},
     "output_type": "execute_result"
    }
   ],
   "source": [
    "%%sql\n",
    "PRAGMA table_info(fine);"
   ]
  },
  {
   "cell_type": "markdown",
   "id": "03a17e48",
   "metadata": {},
   "source": [
    "### Задание 2"
   ]
  },
  {
   "cell_type": "markdown",
   "id": "250fa258",
   "metadata": {},
   "source": [
    "Добавить в таблицу `fine` значения:"
   ]
  },
  {
   "cell_type": "markdown",
   "id": "0d5125da",
   "metadata": {},
   "source": [
    "| fine_id | name | number_plate | violation | sum_fine | date_violation | date_payment |\n",
    "|:---:|:---:|:---:|:---:|:---:|:---:|:---:|\n",
    "| 1 | Баранов П.Е. | Р523ВТ | Превышение скорости<br>(от 40 до 60) | 500.00 | 2020-01-12 | 2020-01-17 |\n",
    "| 2 | Абрамова К.А. | О111АВ | Проезд на<br>запрещающий сигнал | 1000.00 | 2020-01-14 | 2020-02-27 |\n",
    "| 3 | Яковлев Г.Р. | Т330ТТ | Превышение скорости<br>(от 20 до 40) | 500.00 | 2020-01-23 | 2020-02-23 |\n",
    "| 4 | Яковлев Г.Р. | М701АА | Превышение скорости<br>(от 20 до 40) |   | 2020-01-12 |   |\n",
    "| 5 | Колесов С.П. | К892АХ | Превышение скорости<br>(от 20 до 40) |   | 2020-02-01 |   |\n",
    "| 6 | Баранов П.Е. | Р523ВТ | Превышение скорости<br>(от 40 до 60) |   | 2020-02-14 |   |\n",
    "| 7 | Абрамова К.А. | О111АВ | Проезд на<br>запрещающий сигнал |   | 2020-02-23 |   |\n",
    "| 8 | Яковлев Г.Р. | Т330ТТ | Проезд на<br>запрещающий сигнал |   | 2020-03-03 |   |"
   ]
  },
  {
   "cell_type": "code",
   "execution_count": 86,
   "id": "37ed5583",
   "metadata": {},
   "outputs": [
    {
     "name": "stdout",
     "output_type": "stream",
     "text": [
      " * sqlite:///stepik.db\n",
      "8 rows affected.\n"
     ]
    },
    {
     "data": {
      "text/plain": [
       "[]"
      ]
     },
     "execution_count": 86,
     "metadata": {},
     "output_type": "execute_result"
    }
   ],
   "source": [
    "%%sql\n",
    "INSERT INTO fine (name, number_plate, violation, sum_fine, date_violation, date_payment)\n",
    "VALUES\n",
    "        ('Баранов П.Е.', 'Р523ВТ', 'Превышение скорости(от 40 до 60)', 500.00, '2020-01-12', '2020-01-17'),\n",
    "        ('Абрамова К.А.', 'О111АВ', 'Проезд на запрещающий сигнал', 1000.00, '2020-01-14', '2020-02-27'),\n",
    "        ('Яковлев Г.Р.', 'Т330ТТ', 'Превышение скорости(от 20 до 40)', 500.00, '2020-01-23', '2020-02-23'),\n",
    "        ('Яковлев Г.Р.', 'М701АА', 'Превышение скорости(от 20 до 40)', Null, '2020-01-12', Null),\n",
    "        ('Колесов С.П.', 'К892АХ', 'Превышение скорости(от 20 до 40)', Null, '2020-02-01', Null),\n",
    "        ('Баранов П.Е.', 'Р523ВТ', 'Превышение скорости(от 40 до 60)', Null, '2020-02-14', Null),\n",
    "        ('Абрамова К.А.', 'О111АВ', 'Проезд на запрещающий сигнал', Null, '2020-02-23', Null),\n",
    "        ('Яковлев Г.Р.', 'Т330ТТ', 'Проезд на запрещающий сигнал', Null, '2020-03-03', Null)"
   ]
  },
  {
   "cell_type": "code",
   "execution_count": 3,
   "id": "d5f87dc5",
   "metadata": {
    "scrolled": true
   },
   "outputs": [
    {
     "name": "stdout",
     "output_type": "stream",
     "text": [
      " * sqlite:///stepik.db\n",
      "Done.\n"
     ]
    },
    {
     "data": {
      "text/html": [
       "<table>\n",
       "    <thead>\n",
       "        <tr>\n",
       "            <th>fine_id</th>\n",
       "            <th>name</th>\n",
       "            <th>number_plate</th>\n",
       "            <th>violation</th>\n",
       "            <th>sum_fine</th>\n",
       "            <th>date_violation</th>\n",
       "            <th>date_payment</th>\n",
       "        </tr>\n",
       "    </thead>\n",
       "    <tbody>\n",
       "        <tr>\n",
       "            <td>1</td>\n",
       "            <td>Баранов П.Е.</td>\n",
       "            <td>Р523ВТ</td>\n",
       "            <td>Превышение скорости(от 40 до 60)</td>\n",
       "            <td>500</td>\n",
       "            <td>2020-01-12</td>\n",
       "            <td>2020-01-17</td>\n",
       "        </tr>\n",
       "        <tr>\n",
       "            <td>2</td>\n",
       "            <td>Абрамова К.А.</td>\n",
       "            <td>О111АВ</td>\n",
       "            <td>Проезд на запрещающий сигнал</td>\n",
       "            <td>1000</td>\n",
       "            <td>2020-01-14</td>\n",
       "            <td>2020-02-27</td>\n",
       "        </tr>\n",
       "        <tr>\n",
       "            <td>3</td>\n",
       "            <td>Яковлев Г.Р.</td>\n",
       "            <td>Т330ТТ</td>\n",
       "            <td>Превышение скорости(от 20 до 40)</td>\n",
       "            <td>500</td>\n",
       "            <td>2020-01-23</td>\n",
       "            <td>2020-02-23</td>\n",
       "        </tr>\n",
       "        <tr>\n",
       "            <td>4</td>\n",
       "            <td>Яковлев Г.Р.</td>\n",
       "            <td>М701АА</td>\n",
       "            <td>Превышение скорости(от 20 до 40)</td>\n",
       "            <td>None</td>\n",
       "            <td>2020-01-12</td>\n",
       "            <td>None</td>\n",
       "        </tr>\n",
       "        <tr>\n",
       "            <td>5</td>\n",
       "            <td>Колесов С.П.</td>\n",
       "            <td>К892АХ</td>\n",
       "            <td>Превышение скорости(от 20 до 40)</td>\n",
       "            <td>None</td>\n",
       "            <td>2020-02-01</td>\n",
       "            <td>None</td>\n",
       "        </tr>\n",
       "        <tr>\n",
       "            <td>6</td>\n",
       "            <td>Баранов П.Е.</td>\n",
       "            <td>Р523ВТ</td>\n",
       "            <td>Превышение скорости(от 40 до 60)</td>\n",
       "            <td>None</td>\n",
       "            <td>2020-02-14</td>\n",
       "            <td>None</td>\n",
       "        </tr>\n",
       "        <tr>\n",
       "            <td>7</td>\n",
       "            <td>Абрамова К.А.</td>\n",
       "            <td>О111АВ</td>\n",
       "            <td>Проезд на запрещающий сигнал</td>\n",
       "            <td>None</td>\n",
       "            <td>2020-02-23</td>\n",
       "            <td>None</td>\n",
       "        </tr>\n",
       "        <tr>\n",
       "            <td>8</td>\n",
       "            <td>Яковлев Г.Р.</td>\n",
       "            <td>Т330ТТ</td>\n",
       "            <td>Проезд на запрещающий сигнал</td>\n",
       "            <td>None</td>\n",
       "            <td>2020-03-03</td>\n",
       "            <td>None</td>\n",
       "        </tr>\n",
       "    </tbody>\n",
       "</table>"
      ],
      "text/plain": [
       "[(1, 'Баранов П.Е.', 'Р523ВТ', 'Превышение скорости(от 40 до 60)', 500, '2020-01-12', '2020-01-17'),\n",
       " (2, 'Абрамова К.А.', 'О111АВ', 'Проезд на запрещающий сигнал', 1000, '2020-01-14', '2020-02-27'),\n",
       " (3, 'Яковлев Г.Р.', 'Т330ТТ', 'Превышение скорости(от 20 до 40)', 500, '2020-01-23', '2020-02-23'),\n",
       " (4, 'Яковлев Г.Р.', 'М701АА', 'Превышение скорости(от 20 до 40)', None, '2020-01-12', None),\n",
       " (5, 'Колесов С.П.', 'К892АХ', 'Превышение скорости(от 20 до 40)', None, '2020-02-01', None),\n",
       " (6, 'Баранов П.Е.', 'Р523ВТ', 'Превышение скорости(от 40 до 60)', None, '2020-02-14', None),\n",
       " (7, 'Абрамова К.А.', 'О111АВ', 'Проезд на запрещающий сигнал', None, '2020-02-23', None),\n",
       " (8, 'Яковлев Г.Р.', 'Т330ТТ', 'Проезд на запрещающий сигнал', None, '2020-03-03', None)]"
      ]
     },
     "execution_count": 3,
     "metadata": {},
     "output_type": "execute_result"
    }
   ],
   "source": [
    "%%sql\n",
    "SELECT * FROM fine"
   ]
  },
  {
   "cell_type": "code",
   "execution_count": 4,
   "id": "68d2c8ba",
   "metadata": {
    "scrolled": true
   },
   "outputs": [],
   "source": [
    "fine = th.Table('fine', 'tables/fine.csv')\n",
    "fine.reset()"
   ]
  },
  {
   "cell_type": "code",
   "execution_count": 5,
   "id": "052512fb",
   "metadata": {
    "scrolled": true
   },
   "outputs": [
    {
     "data": {
      "text/plain": [
       "__name__ = fine\n",
       "__path__ = tables/fine.csv\n",
       " fine_id          name number_plate                        violation  sum_fine date_violation date_payment\n",
       "       1  Баранов П.Е.       Р523ВТ Превышение скорости(от 40 до 60)     500.0     2020-01-12   2020-01-17\n",
       "       2 Абрамова К.А.       О111АВ     Проезд на запрещающий сигнал    1000.0     2020-01-14   2020-02-27\n",
       "       3  Яковлев Г.Р.       Т330ТТ Превышение скорости(от 20 до 40)     500.0     2020-01-23   2020-02-23\n",
       "       4  Яковлев Г.Р.       М701АА Превышение скорости(от 20 до 40)       NaN     2020-01-12          NaT\n",
       "       5  Колесов С.П.       К892АХ Превышение скорости(от 20 до 40)       NaN     2020-02-01          NaT\n",
       "       6  Баранов П.Е.       Р523ВТ Превышение скорости(от 40 до 60)       NaN     2020-02-14          NaT\n",
       "       7 Абрамова К.А.       О111АВ     Проезд на запрещающий сигнал       NaN     2020-02-23          NaT\n",
       "       8  Яковлев Г.Р.       Т330ТТ     Проезд на запрещающий сигнал       NaN     2020-03-03          NaT"
      ]
     },
     "execution_count": 5,
     "metadata": {},
     "output_type": "execute_result"
    }
   ],
   "source": [
    "fine"
   ]
  },
  {
   "cell_type": "code",
   "execution_count": 6,
   "id": "d8196ceb",
   "metadata": {},
   "outputs": [],
   "source": [
    "traffic_violation = th.Table('traffic_violation', 'tables/traffic_violation.csv','schemas/traffic_violation_schema.csv')"
   ]
  },
  {
   "cell_type": "code",
   "execution_count": 11,
   "id": "f026c422",
   "metadata": {
    "scrolled": true
   },
   "outputs": [
    {
     "data": {
      "text/plain": [
       "__name__ = traffic_violation\n",
       "__path__ = tables/traffic_violation.csv\n",
       " violation_id                        violation  sum_fine\n",
       "            1 Превышение скорости(от 20 до 40)       500\n",
       "            2 Превышение скорости(от 40 до 60)      1000\n",
       "            3     Проезд на запрещающий сигнал      1000"
      ]
     },
     "execution_count": 11,
     "metadata": {},
     "output_type": "execute_result"
    }
   ],
   "source": [
    "traffic_violation"
   ]
  },
  {
   "cell_type": "markdown",
   "id": "a5c5203b",
   "metadata": {},
   "source": [
    "## Использование временного имени таблицы (алиаса) `AS`"
   ]
  },
  {
   "cell_type": "markdown",
   "id": "4a2057ba",
   "metadata": {},
   "source": [
    "**Пример**  \n",
    "Для тех, кто уже оплатил штраф, вывести информацию о том, изменялась ли стандартная сумма штрафа."
   ]
  },
  {
   "cell_type": "code",
   "execution_count": 7,
   "id": "d35ee2cc",
   "metadata": {},
   "outputs": [
    {
     "name": "stdout",
     "output_type": "stream",
     "text": [
      " * sqlite:///stepik.db\n",
      "Done.\n"
     ]
    },
    {
     "data": {
      "text/html": [
       "<table>\n",
       "    <thead>\n",
       "        <tr>\n",
       "            <th>name</th>\n",
       "            <th>date_payment</th>\n",
       "            <th>sum_fine</th>\n",
       "            <th>sum_diff</th>\n",
       "        </tr>\n",
       "    </thead>\n",
       "    <tbody>\n",
       "        <tr>\n",
       "            <td>Баранов П.Е.</td>\n",
       "            <td>2020-01-17</td>\n",
       "            <td>1000</td>\n",
       "            <td>-500</td>\n",
       "        </tr>\n",
       "        <tr>\n",
       "            <td>Абрамова К.А.</td>\n",
       "            <td>2020-02-27</td>\n",
       "            <td>1000</td>\n",
       "            <td>0</td>\n",
       "        </tr>\n",
       "        <tr>\n",
       "            <td>Яковлев Г.Р.</td>\n",
       "            <td>2020-02-23</td>\n",
       "            <td>500</td>\n",
       "            <td>0</td>\n",
       "        </tr>\n",
       "    </tbody>\n",
       "</table>"
      ],
      "text/plain": [
       "[('Баранов П.Е.', '2020-01-17', 1000, -500),\n",
       " ('Абрамова К.А.', '2020-02-27', 1000, 0),\n",
       " ('Яковлев Г.Р.', '2020-02-23', 500, 0)]"
      ]
     },
     "execution_count": 7,
     "metadata": {},
     "output_type": "execute_result"
    }
   ],
   "source": [
    "%%sql\n",
    "SELECT f.name, f.date_payment, t.sum_fine, (f.sum_fine - t.sum_fine) AS sum_diff\n",
    "  FROM fine AS f, traffic_violation AS t\n",
    " WHERE f.violation = t.violation\n",
    "   AND f.date_payment NOT NULL"
   ]
  },
  {
   "cell_type": "markdown",
   "id": "397d200e",
   "metadata": {},
   "source": [
    "### Задание 3"
   ]
  },
  {
   "cell_type": "markdown",
   "id": "31f7a310",
   "metadata": {},
   "source": [
    "Занести в таблицу `fine` суммы штрафов, которые должен оплатить водитель,  \n",
    "в соответствии с данными из таблицы `traffic_violation` .  \n",
    "При этом суммы заносить только в пустые поля столбца `sum_fine`.\n",
    "\n",
    "Таблица `traffic_violation` создана и заполнена.\n",
    "\n",
    "**Важно!** Сравнение значения столбца с пустым значением осуществляется с помощью оператора `IS NULL`"
   ]
  },
  {
   "cell_type": "code",
   "execution_count": 6,
   "id": "0074fa08",
   "metadata": {},
   "outputs": [],
   "source": [
    "fine.reset()\n",
    "traffic_violation.reset()"
   ]
  },
  {
   "cell_type": "code",
   "execution_count": 7,
   "id": "ae9dfaa0",
   "metadata": {},
   "outputs": [
    {
     "name": "stdout",
     "output_type": "stream",
     "text": [
      " * sqlite:///stepik.db\n",
      "0 rows affected.\n",
      "Done.\n"
     ]
    },
    {
     "data": {
      "text/html": [
       "<table>\n",
       "    <thead>\n",
       "        <tr>\n",
       "            <th>fine_id</th>\n",
       "            <th>name</th>\n",
       "            <th>number_plate</th>\n",
       "            <th>violation</th>\n",
       "            <th>sum_fine</th>\n",
       "            <th>date_violation</th>\n",
       "            <th>date_payment</th>\n",
       "        </tr>\n",
       "    </thead>\n",
       "    <tbody>\n",
       "        <tr>\n",
       "            <td>1</td>\n",
       "            <td>Баранов П.Е.</td>\n",
       "            <td>Р523ВТ</td>\n",
       "            <td>Превышение скорости(от 40 до 60)</td>\n",
       "            <td>500</td>\n",
       "            <td>2020-01-12</td>\n",
       "            <td>2020-01-17</td>\n",
       "        </tr>\n",
       "        <tr>\n",
       "            <td>2</td>\n",
       "            <td>Абрамова К.А.</td>\n",
       "            <td>О111АВ</td>\n",
       "            <td>Проезд на запрещающий сигнал</td>\n",
       "            <td>1000</td>\n",
       "            <td>2020-01-14</td>\n",
       "            <td>2020-02-27</td>\n",
       "        </tr>\n",
       "        <tr>\n",
       "            <td>3</td>\n",
       "            <td>Яковлев Г.Р.</td>\n",
       "            <td>Т330ТТ</td>\n",
       "            <td>Превышение скорости(от 20 до 40)</td>\n",
       "            <td>500</td>\n",
       "            <td>2020-01-23</td>\n",
       "            <td>2020-02-23</td>\n",
       "        </tr>\n",
       "        <tr>\n",
       "            <td>4</td>\n",
       "            <td>Яковлев Г.Р.</td>\n",
       "            <td>М701АА</td>\n",
       "            <td>Превышение скорости(от 20 до 40)</td>\n",
       "            <td>500</td>\n",
       "            <td>2020-01-12</td>\n",
       "            <td>None</td>\n",
       "        </tr>\n",
       "        <tr>\n",
       "            <td>5</td>\n",
       "            <td>Колесов С.П.</td>\n",
       "            <td>К892АХ</td>\n",
       "            <td>Превышение скорости(от 20 до 40)</td>\n",
       "            <td>500</td>\n",
       "            <td>2020-02-01</td>\n",
       "            <td>None</td>\n",
       "        </tr>\n",
       "        <tr>\n",
       "            <td>6</td>\n",
       "            <td>Баранов П.Е.</td>\n",
       "            <td>Р523ВТ</td>\n",
       "            <td>Превышение скорости(от 40 до 60)</td>\n",
       "            <td>1000</td>\n",
       "            <td>2020-02-14</td>\n",
       "            <td>None</td>\n",
       "        </tr>\n",
       "        <tr>\n",
       "            <td>7</td>\n",
       "            <td>Абрамова К.А.</td>\n",
       "            <td>О111АВ</td>\n",
       "            <td>Проезд на запрещающий сигнал</td>\n",
       "            <td>1000</td>\n",
       "            <td>2020-02-23</td>\n",
       "            <td>None</td>\n",
       "        </tr>\n",
       "        <tr>\n",
       "            <td>8</td>\n",
       "            <td>Яковлев Г.Р.</td>\n",
       "            <td>Т330ТТ</td>\n",
       "            <td>Проезд на запрещающий сигнал</td>\n",
       "            <td>1000</td>\n",
       "            <td>2020-03-03</td>\n",
       "            <td>None</td>\n",
       "        </tr>\n",
       "    </tbody>\n",
       "</table>"
      ],
      "text/plain": [
       "[(1, 'Баранов П.Е.', 'Р523ВТ', 'Превышение скорости(от 40 до 60)', 500, '2020-01-12', '2020-01-17'),\n",
       " (2, 'Абрамова К.А.', 'О111АВ', 'Проезд на запрещающий сигнал', 1000, '2020-01-14', '2020-02-27'),\n",
       " (3, 'Яковлев Г.Р.', 'Т330ТТ', 'Превышение скорости(от 20 до 40)', 500, '2020-01-23', '2020-02-23'),\n",
       " (4, 'Яковлев Г.Р.', 'М701АА', 'Превышение скорости(от 20 до 40)', 500, '2020-01-12', None),\n",
       " (5, 'Колесов С.П.', 'К892АХ', 'Превышение скорости(от 20 до 40)', 500, '2020-02-01', None),\n",
       " (6, 'Баранов П.Е.', 'Р523ВТ', 'Превышение скорости(от 40 до 60)', 1000, '2020-02-14', None),\n",
       " (7, 'Абрамова К.А.', 'О111АВ', 'Проезд на запрещающий сигнал', 1000, '2020-02-23', None),\n",
       " (8, 'Яковлев Г.Р.', 'Т330ТТ', 'Проезд на запрещающий сигнал', 1000, '2020-03-03', None)]"
      ]
     },
     "execution_count": 7,
     "metadata": {},
     "output_type": "execute_result"
    }
   ],
   "source": [
    "%%sql\n",
    "UPDATE fine AS f\n",
    "   SET sum_fine = tv.sum_fine\n",
    "  FROM traffic_violation AS tv\n",
    " WHERE f.sum_fine IS NULL\n",
    "   AND f.violation = tv.violation;\n",
    "\n",
    "SELECT * FROM fine"
   ]
  },
  {
   "cell_type": "code",
   "execution_count": 5,
   "id": "b65dd531",
   "metadata": {},
   "outputs": [],
   "source": [
    "fine.save()"
   ]
  },
  {
   "cell_type": "markdown",
   "id": "1062596d",
   "metadata": {},
   "source": [
    "## Группировка данных по нескольким столбцам"
   ]
  },
  {
   "cell_type": "markdown",
   "id": "13dc27e5",
   "metadata": {},
   "source": [
    "В разделе `GROUP BY` можно указывать несколько столбцов, разделяя их запятыми. Тогда к одной группе будут относиться записи, у которых значения столбцов, входящих в группу, равны. Рассмотрим группировку по нескольким столбцам на примере следующего запроса:\n",
    "\n",
    ">SELECT name, number_plate, violation, count(*)  \n",
    ">FROM fine  \n",
    ">GROUP BY name, number_plate, violation;\n",
    "\n",
    "1. Сначала записи таблицы `fine` разделяются на группы.  \n",
    "   В каждую группу включаются строки, у которых равны значения в столбцах `name`, `number_plate` и `violation` соответственно. Получается 6 групп. \n",
    "   \n",
    "![](https://ucarecdn.com/ff298302-7c99-4ecc-8245-d26c32c1d524/)\n",
    "\n",
    "2. Затем вычисляется функция `count(*)`, которая определяет количество записей в каждой группе.  \n",
    "   Получается, что к первым двум группам относятся по две записи, ко всем остальным - по одной.\n",
    "   \n",
    "![](https://ucarecdn.com/4bb9e222-d1ba-4806-8fd8-b7eb8c64f11b/)\n",
    "\n",
    "**Важно!** В разделе `GROUP BY` нужно перечислять все НЕАГРЕГИРОВАННЫЕ столбцы (к которым не применяются групповые функции) из `SELECT`."
   ]
  },
  {
   "cell_type": "markdown",
   "id": "efcec500",
   "metadata": {},
   "source": [
    "### Задание 4"
   ]
  },
  {
   "cell_type": "markdown",
   "id": "bcb0fd45",
   "metadata": {},
   "source": [
    "Вывести фамилию, номер машины и нарушение только для тех водителей, которые на одной машине нарушили одно и то же правило   \n",
    "два и более раз. При этом учитывать все нарушения, независимо от того оплачены они или нет.  \n",
    "Информацию отсортировать в алфавитном порядке, сначала по фамилии водителя, потом по номеру машины и, наконец, по нарушению."
   ]
  },
  {
   "cell_type": "code",
   "execution_count": 17,
   "id": "93e5e786",
   "metadata": {},
   "outputs": [
    {
     "name": "stdout",
     "output_type": "stream",
     "text": [
      " * sqlite:///stepik.db\n",
      "Done.\n"
     ]
    },
    {
     "data": {
      "text/html": [
       "<table>\n",
       "    <thead>\n",
       "        <tr>\n",
       "            <th>name</th>\n",
       "            <th>number_plate</th>\n",
       "            <th>violation</th>\n",
       "        </tr>\n",
       "    </thead>\n",
       "    <tbody>\n",
       "        <tr>\n",
       "            <td>Абрамова К.А.</td>\n",
       "            <td>О111АВ</td>\n",
       "            <td>Проезд на запрещающий сигнал</td>\n",
       "        </tr>\n",
       "        <tr>\n",
       "            <td>Баранов П.Е.</td>\n",
       "            <td>Р523ВТ</td>\n",
       "            <td>Превышение скорости(от 40 до 60)</td>\n",
       "        </tr>\n",
       "    </tbody>\n",
       "</table>"
      ],
      "text/plain": [
       "[('Абрамова К.А.', 'О111АВ', 'Проезд на запрещающий сигнал'),\n",
       " ('Баранов П.Е.', 'Р523ВТ', 'Превышение скорости(от 40 до 60)')]"
      ]
     },
     "execution_count": 17,
     "metadata": {},
     "output_type": "execute_result"
    }
   ],
   "source": [
    "%%sql\n",
    "SELECT name, number_plate, violation\n",
    "  FROM fine\n",
    " GROUP BY name, number_plate, violation\n",
    "HAVING COUNT(*) >= 2\n",
    " ORDER BY 1, 2, 3"
   ]
  },
  {
   "cell_type": "markdown",
   "id": "8af94e3f",
   "metadata": {},
   "source": [
    "### Задание 5"
   ]
  },
  {
   "cell_type": "markdown",
   "id": "beddc5fd",
   "metadata": {},
   "source": [
    "В таблице `fine` увеличить в два раза сумму неоплаченных штрафов для отобранных на предыдущем шаге записей."
   ]
  },
  {
   "cell_type": "code",
   "execution_count": 57,
   "id": "1a308020",
   "metadata": {},
   "outputs": [],
   "source": [
    "fine.reset()"
   ]
  },
  {
   "cell_type": "code",
   "execution_count": 58,
   "id": "5e8d943f",
   "metadata": {
    "scrolled": true
   },
   "outputs": [
    {
     "name": "stdout",
     "output_type": "stream",
     "text": [
      " * sqlite:///stepik.db\n",
      "2 rows affected.\n",
      "Done.\n"
     ]
    },
    {
     "data": {
      "text/html": [
       "<table>\n",
       "    <thead>\n",
       "        <tr>\n",
       "            <th>fine_id</th>\n",
       "            <th>name</th>\n",
       "            <th>number_plate</th>\n",
       "            <th>violation</th>\n",
       "            <th>sum_fine</th>\n",
       "            <th>date_violation</th>\n",
       "            <th>date_payment</th>\n",
       "        </tr>\n",
       "    </thead>\n",
       "    <tbody>\n",
       "        <tr>\n",
       "            <td>1</td>\n",
       "            <td>Баранов П.Е.</td>\n",
       "            <td>Р523ВТ</td>\n",
       "            <td>Превышение скорости(от 40 до 60)</td>\n",
       "            <td>500</td>\n",
       "            <td>2020-01-12</td>\n",
       "            <td>2020-01-17</td>\n",
       "        </tr>\n",
       "        <tr>\n",
       "            <td>2</td>\n",
       "            <td>Абрамова К.А.</td>\n",
       "            <td>О111АВ</td>\n",
       "            <td>Проезд на запрещающий сигнал</td>\n",
       "            <td>1000</td>\n",
       "            <td>2020-01-14</td>\n",
       "            <td>2020-02-27</td>\n",
       "        </tr>\n",
       "        <tr>\n",
       "            <td>3</td>\n",
       "            <td>Яковлев Г.Р.</td>\n",
       "            <td>Т330ТТ</td>\n",
       "            <td>Превышение скорости(от 20 до 40)</td>\n",
       "            <td>500</td>\n",
       "            <td>2020-01-23</td>\n",
       "            <td>2020-02-23</td>\n",
       "        </tr>\n",
       "        <tr>\n",
       "            <td>4</td>\n",
       "            <td>Яковлев Г.Р.</td>\n",
       "            <td>М701АА</td>\n",
       "            <td>Превышение скорости(от 20 до 40)</td>\n",
       "            <td>500</td>\n",
       "            <td>2020-01-12</td>\n",
       "            <td>None</td>\n",
       "        </tr>\n",
       "        <tr>\n",
       "            <td>5</td>\n",
       "            <td>Колесов С.П.</td>\n",
       "            <td>К892АХ</td>\n",
       "            <td>Превышение скорости(от 20 до 40)</td>\n",
       "            <td>500</td>\n",
       "            <td>2020-02-01</td>\n",
       "            <td>None</td>\n",
       "        </tr>\n",
       "        <tr>\n",
       "            <td>6</td>\n",
       "            <td>Баранов П.Е.</td>\n",
       "            <td>Р523ВТ</td>\n",
       "            <td>Превышение скорости(от 40 до 60)</td>\n",
       "            <td>2000</td>\n",
       "            <td>2020-02-14</td>\n",
       "            <td>None</td>\n",
       "        </tr>\n",
       "        <tr>\n",
       "            <td>7</td>\n",
       "            <td>Абрамова К.А.</td>\n",
       "            <td>О111АВ</td>\n",
       "            <td>Проезд на запрещающий сигнал</td>\n",
       "            <td>2000</td>\n",
       "            <td>2020-02-23</td>\n",
       "            <td>None</td>\n",
       "        </tr>\n",
       "        <tr>\n",
       "            <td>8</td>\n",
       "            <td>Яковлев Г.Р.</td>\n",
       "            <td>Т330ТТ</td>\n",
       "            <td>Проезд на запрещающий сигнал</td>\n",
       "            <td>1000</td>\n",
       "            <td>2020-03-03</td>\n",
       "            <td>None</td>\n",
       "        </tr>\n",
       "    </tbody>\n",
       "</table>"
      ],
      "text/plain": [
       "[(1, 'Баранов П.Е.', 'Р523ВТ', 'Превышение скорости(от 40 до 60)', 500, '2020-01-12', '2020-01-17'),\n",
       " (2, 'Абрамова К.А.', 'О111АВ', 'Проезд на запрещающий сигнал', 1000, '2020-01-14', '2020-02-27'),\n",
       " (3, 'Яковлев Г.Р.', 'Т330ТТ', 'Превышение скорости(от 20 до 40)', 500, '2020-01-23', '2020-02-23'),\n",
       " (4, 'Яковлев Г.Р.', 'М701АА', 'Превышение скорости(от 20 до 40)', 500, '2020-01-12', None),\n",
       " (5, 'Колесов С.П.', 'К892АХ', 'Превышение скорости(от 20 до 40)', 500, '2020-02-01', None),\n",
       " (6, 'Баранов П.Е.', 'Р523ВТ', 'Превышение скорости(от 40 до 60)', 2000, '2020-02-14', None),\n",
       " (7, 'Абрамова К.А.', 'О111АВ', 'Проезд на запрещающий сигнал', 2000, '2020-02-23', None),\n",
       " (8, 'Яковлев Г.Р.', 'Т330ТТ', 'Проезд на запрещающий сигнал', 1000, '2020-03-03', None)]"
      ]
     },
     "execution_count": 58,
     "metadata": {},
     "output_type": "execute_result"
    }
   ],
   "source": [
    "%%sql\n",
    "UPDATE fine AS f\n",
    "   SET sum_fine = sum_fine * 2\n",
    "  FROM (SELECT name, number_plate, violation\n",
    "          FROM fine\n",
    "         GROUP BY name, number_plate, violation\n",
    "        HAVING COUNT(*) >= 2) AS sq\n",
    " WHERE f.date_payment IS NULL\n",
    "   AND (f.name, f.number_plate, f.violation) = (sq.name, sq.number_plate, sq.violation);\n",
    "\n",
    "SELECT * FROM fine"
   ]
  },
  {
   "cell_type": "code",
   "execution_count": 60,
   "id": "ea4389e7",
   "metadata": {},
   "outputs": [],
   "source": [
    "fine.save()"
   ]
  },
  {
   "cell_type": "markdown",
   "id": "51cf3caa",
   "metadata": {},
   "source": [
    "### Задание 6"
   ]
  },
  {
   "cell_type": "markdown",
   "id": "9fa68c92",
   "metadata": {},
   "source": [
    "Водители оплачивают свои штрафы. В таблице `payment` занесены даты их оплаты:"
   ]
  },
  {
   "cell_type": "markdown",
   "id": "1f92a5dc",
   "metadata": {},
   "source": [
    "| payment_id | name | number_plate | violation | date_violation | date_payment |\n",
    "|:---:|:---:|:---:|:---:|:---:|:---:|\n",
    "| 1 | Яковлев Г.Р. | М701АА | Превышение скорости(от 20 до 40) | 2020-01-12 | 2020-01-22 |\n",
    "| 2 | Баранов П.Е. | Р523ВТ | Превышение скорости(от 40 до 60) | 2020-02-14 | 2020-03-06 |\n",
    "| 3 | Яковлев Г.Р. | Т330ТТ | Проезд на запрещающий сигнал | 2020-03-03 | 2020-03-23 |"
   ]
  },
  {
   "cell_type": "code",
   "execution_count": 61,
   "id": "3244aa02",
   "metadata": {},
   "outputs": [],
   "source": [
    "payment = th.Table('payment','tables/payment.csv','schemas/payment_schema.csv')"
   ]
  },
  {
   "cell_type": "code",
   "execution_count": 62,
   "id": "e52dea85",
   "metadata": {},
   "outputs": [
    {
     "data": {
      "text/plain": [
       "__name__ = payment\n",
       "__path__ = tables/payment.csv\n",
       " payment_id         name number_plate                        violation date_violation date_payment\n",
       "          1 Яковлев Г.Р.       М701АА Превышение скорости(от 20 до 40)     2020-01-12   2020-01-22\n",
       "          2 Баранов П.Е.       Р523ВТ Превышение скорости(от 40 до 60)     2020-02-14   2020-03-06\n",
       "          3 Яковлев Г.Р.       Т330ТТ     Проезд на запрещающий сигнал     2020-03-03   2020-03-23"
      ]
     },
     "execution_count": 62,
     "metadata": {},
     "output_type": "execute_result"
    }
   ],
   "source": [
    "payment"
   ]
  },
  {
   "cell_type": "markdown",
   "id": "de5dce30",
   "metadata": {},
   "source": [
    "Необходимо:\n",
    "\n",
    "- в таблицу `fine` занести дату оплаты соответствующего штрафа из таблицы `payment`; \n",
    "- уменьшить начисленный штраф в таблице `fine` в два раза  (только для тех штрафов, информация о которых занесена в таблицу `payment`) , если оплата произведена не позднее 20 дней со дня нарушения."
   ]
  },
  {
   "cell_type": "code",
   "execution_count": 72,
   "id": "979ffe5a",
   "metadata": {},
   "outputs": [],
   "source": [
    "fine.reset()"
   ]
  },
  {
   "cell_type": "code",
   "execution_count": 73,
   "id": "6bc28a00",
   "metadata": {
    "scrolled": true
   },
   "outputs": [
    {
     "name": "stdout",
     "output_type": "stream",
     "text": [
      " * sqlite:///stepik.db\n",
      "3 rows affected.\n",
      "Done.\n"
     ]
    },
    {
     "data": {
      "text/html": [
       "<table>\n",
       "    <thead>\n",
       "        <tr>\n",
       "            <th>fine_id</th>\n",
       "            <th>name</th>\n",
       "            <th>number_plate</th>\n",
       "            <th>violation</th>\n",
       "            <th>sum_fine</th>\n",
       "            <th>date_violation</th>\n",
       "            <th>date_payment</th>\n",
       "        </tr>\n",
       "    </thead>\n",
       "    <tbody>\n",
       "        <tr>\n",
       "            <td>1</td>\n",
       "            <td>Баранов П.Е.</td>\n",
       "            <td>Р523ВТ</td>\n",
       "            <td>Превышение скорости(от 40 до 60)</td>\n",
       "            <td>500</td>\n",
       "            <td>2020-01-12</td>\n",
       "            <td>2020-01-17</td>\n",
       "        </tr>\n",
       "        <tr>\n",
       "            <td>2</td>\n",
       "            <td>Абрамова К.А.</td>\n",
       "            <td>О111АВ</td>\n",
       "            <td>Проезд на запрещающий сигнал</td>\n",
       "            <td>1000</td>\n",
       "            <td>2020-01-14</td>\n",
       "            <td>2020-02-27</td>\n",
       "        </tr>\n",
       "        <tr>\n",
       "            <td>3</td>\n",
       "            <td>Яковлев Г.Р.</td>\n",
       "            <td>Т330ТТ</td>\n",
       "            <td>Превышение скорости(от 20 до 40)</td>\n",
       "            <td>500</td>\n",
       "            <td>2020-01-23</td>\n",
       "            <td>2020-02-23</td>\n",
       "        </tr>\n",
       "        <tr>\n",
       "            <td>4</td>\n",
       "            <td>Яковлев Г.Р.</td>\n",
       "            <td>М701АА</td>\n",
       "            <td>Превышение скорости(от 20 до 40)</td>\n",
       "            <td>250</td>\n",
       "            <td>2020-01-12</td>\n",
       "            <td>2020-01-22</td>\n",
       "        </tr>\n",
       "        <tr>\n",
       "            <td>5</td>\n",
       "            <td>Колесов С.П.</td>\n",
       "            <td>К892АХ</td>\n",
       "            <td>Превышение скорости(от 20 до 40)</td>\n",
       "            <td>500</td>\n",
       "            <td>2020-02-01</td>\n",
       "            <td>None</td>\n",
       "        </tr>\n",
       "        <tr>\n",
       "            <td>6</td>\n",
       "            <td>Баранов П.Е.</td>\n",
       "            <td>Р523ВТ</td>\n",
       "            <td>Превышение скорости(от 40 до 60)</td>\n",
       "            <td>2000</td>\n",
       "            <td>2020-02-14</td>\n",
       "            <td>2020-03-06</td>\n",
       "        </tr>\n",
       "        <tr>\n",
       "            <td>7</td>\n",
       "            <td>Абрамова К.А.</td>\n",
       "            <td>О111АВ</td>\n",
       "            <td>Проезд на запрещающий сигнал</td>\n",
       "            <td>2000</td>\n",
       "            <td>2020-02-23</td>\n",
       "            <td>None</td>\n",
       "        </tr>\n",
       "        <tr>\n",
       "            <td>8</td>\n",
       "            <td>Яковлев Г.Р.</td>\n",
       "            <td>Т330ТТ</td>\n",
       "            <td>Проезд на запрещающий сигнал</td>\n",
       "            <td>500</td>\n",
       "            <td>2020-03-03</td>\n",
       "            <td>2020-03-23</td>\n",
       "        </tr>\n",
       "    </tbody>\n",
       "</table>"
      ],
      "text/plain": [
       "[(1, 'Баранов П.Е.', 'Р523ВТ', 'Превышение скорости(от 40 до 60)', 500, '2020-01-12', '2020-01-17'),\n",
       " (2, 'Абрамова К.А.', 'О111АВ', 'Проезд на запрещающий сигнал', 1000, '2020-01-14', '2020-02-27'),\n",
       " (3, 'Яковлев Г.Р.', 'Т330ТТ', 'Превышение скорости(от 20 до 40)', 500, '2020-01-23', '2020-02-23'),\n",
       " (4, 'Яковлев Г.Р.', 'М701АА', 'Превышение скорости(от 20 до 40)', 250, '2020-01-12', '2020-01-22'),\n",
       " (5, 'Колесов С.П.', 'К892АХ', 'Превышение скорости(от 20 до 40)', 500, '2020-02-01', None),\n",
       " (6, 'Баранов П.Е.', 'Р523ВТ', 'Превышение скорости(от 40 до 60)', 2000, '2020-02-14', '2020-03-06'),\n",
       " (7, 'Абрамова К.А.', 'О111АВ', 'Проезд на запрещающий сигнал', 2000, '2020-02-23', None),\n",
       " (8, 'Яковлев Г.Р.', 'Т330ТТ', 'Проезд на запрещающий сигнал', 500, '2020-03-03', '2020-03-23')]"
      ]
     },
     "execution_count": 73,
     "metadata": {},
     "output_type": "execute_result"
    }
   ],
   "source": [
    "%%sql\n",
    "UPDATE fine AS f\n",
    "   SET date_payment = p.date_payment,\n",
    "       sum_fine  = sum_fine * IIF((JULIANDAY(p.date_payment) - JULIANDAY(p.date_violation)) <= 20 , 0.5, 1)\n",
    "  FROM payment AS p\n",
    " WHERE f.date_payment IS NULL\n",
    "   AND (f.name, f.number_plate, f.violation, f.date_violation) = \n",
    "       (p.name, p.number_plate, p.violation, p.date_violation);\n",
    "\n",
    "SELECT * FROM fine"
   ]
  },
  {
   "cell_type": "code",
   "execution_count": 74,
   "id": "c82537dd",
   "metadata": {},
   "outputs": [],
   "source": [
    "fine.save()"
   ]
  },
  {
   "cell_type": "markdown",
   "id": "3ced92a4",
   "metadata": {},
   "source": [
    "### Задание 7"
   ]
  },
  {
   "cell_type": "markdown",
   "id": "08de6a94",
   "metadata": {},
   "source": [
    "Создать новую таблицу `back_payment`, куда внести информацию о неоплаченных штрафах (Фамилию и инициалы водителя, номер машины, нарушение, сумму штрафа и дату нарушения) из таблицы `fine`.\n",
    "\n",
    "**Важно.** На этом шаге необходимо создать таблицу на основе запроса! Не нужно одним запросом создавать таблицу, а вторым в нее добавлять строки."
   ]
  },
  {
   "cell_type": "code",
   "execution_count": 81,
   "id": "e0bfb115",
   "metadata": {},
   "outputs": [
    {
     "name": "stdout",
     "output_type": "stream",
     "text": [
      " * sqlite:///stepik.db\n",
      "Done.\n"
     ]
    },
    {
     "data": {
      "text/plain": [
       "[]"
      ]
     },
     "execution_count": 81,
     "metadata": {},
     "output_type": "execute_result"
    }
   ],
   "source": [
    "%%sql\n",
    "CREATE TABLE back_payment AS\n",
    "SELECT name, number_plate, violation, sum_fine, date_violation\n",
    "  FROM fine\n",
    " WHERE date_payment IS NULL"
   ]
  },
  {
   "cell_type": "code",
   "execution_count": 82,
   "id": "882e2806",
   "metadata": {},
   "outputs": [
    {
     "name": "stdout",
     "output_type": "stream",
     "text": [
      " * sqlite:///stepik.db\n",
      "Done.\n"
     ]
    },
    {
     "data": {
      "text/html": [
       "<table>\n",
       "    <thead>\n",
       "        <tr>\n",
       "            <th>name</th>\n",
       "            <th>number_plate</th>\n",
       "            <th>violation</th>\n",
       "            <th>sum_fine</th>\n",
       "            <th>date_violation</th>\n",
       "        </tr>\n",
       "    </thead>\n",
       "    <tbody>\n",
       "        <tr>\n",
       "            <td>Колесов С.П.</td>\n",
       "            <td>К892АХ</td>\n",
       "            <td>Превышение скорости(от 20 до 40)</td>\n",
       "            <td>500</td>\n",
       "            <td>2020-02-01</td>\n",
       "        </tr>\n",
       "        <tr>\n",
       "            <td>Абрамова К.А.</td>\n",
       "            <td>О111АВ</td>\n",
       "            <td>Проезд на запрещающий сигнал</td>\n",
       "            <td>2000</td>\n",
       "            <td>2020-02-23</td>\n",
       "        </tr>\n",
       "    </tbody>\n",
       "</table>"
      ],
      "text/plain": [
       "[('Колесов С.П.', 'К892АХ', 'Превышение скорости(от 20 до 40)', 500, '2020-02-01'),\n",
       " ('Абрамова К.А.', 'О111АВ', 'Проезд на запрещающий сигнал', 2000, '2020-02-23')]"
      ]
     },
     "execution_count": 82,
     "metadata": {},
     "output_type": "execute_result"
    }
   ],
   "source": [
    "%%sql\n",
    "SELECT * FROM back_payment"
   ]
  },
  {
   "cell_type": "markdown",
   "id": "2f08485d",
   "metadata": {},
   "source": [
    "### Задание 8"
   ]
  },
  {
   "cell_type": "markdown",
   "id": "339c8b83",
   "metadata": {},
   "source": [
    "Удалить из таблицы `fine` информацию о нарушениях, совершенных раньше 1 февраля 2020 года."
   ]
  },
  {
   "cell_type": "code",
   "execution_count": 84,
   "id": "0c6448f9",
   "metadata": {},
   "outputs": [
    {
     "name": "stdout",
     "output_type": "stream",
     "text": [
      " * sqlite:///stepik.db\n",
      "4 rows affected.\n",
      "Done.\n"
     ]
    },
    {
     "data": {
      "text/html": [
       "<table>\n",
       "    <thead>\n",
       "        <tr>\n",
       "            <th>fine_id</th>\n",
       "            <th>name</th>\n",
       "            <th>number_plate</th>\n",
       "            <th>violation</th>\n",
       "            <th>sum_fine</th>\n",
       "            <th>date_violation</th>\n",
       "            <th>date_payment</th>\n",
       "        </tr>\n",
       "    </thead>\n",
       "    <tbody>\n",
       "        <tr>\n",
       "            <td>5</td>\n",
       "            <td>Колесов С.П.</td>\n",
       "            <td>К892АХ</td>\n",
       "            <td>Превышение скорости(от 20 до 40)</td>\n",
       "            <td>500</td>\n",
       "            <td>2020-02-01</td>\n",
       "            <td>None</td>\n",
       "        </tr>\n",
       "        <tr>\n",
       "            <td>6</td>\n",
       "            <td>Баранов П.Е.</td>\n",
       "            <td>Р523ВТ</td>\n",
       "            <td>Превышение скорости(от 40 до 60)</td>\n",
       "            <td>2000</td>\n",
       "            <td>2020-02-14</td>\n",
       "            <td>2020-03-06</td>\n",
       "        </tr>\n",
       "        <tr>\n",
       "            <td>7</td>\n",
       "            <td>Абрамова К.А.</td>\n",
       "            <td>О111АВ</td>\n",
       "            <td>Проезд на запрещающий сигнал</td>\n",
       "            <td>2000</td>\n",
       "            <td>2020-02-23</td>\n",
       "            <td>None</td>\n",
       "        </tr>\n",
       "        <tr>\n",
       "            <td>8</td>\n",
       "            <td>Яковлев Г.Р.</td>\n",
       "            <td>Т330ТТ</td>\n",
       "            <td>Проезд на запрещающий сигнал</td>\n",
       "            <td>500</td>\n",
       "            <td>2020-03-03</td>\n",
       "            <td>2020-03-23</td>\n",
       "        </tr>\n",
       "    </tbody>\n",
       "</table>"
      ],
      "text/plain": [
       "[(5, 'Колесов С.П.', 'К892АХ', 'Превышение скорости(от 20 до 40)', 500, '2020-02-01', None),\n",
       " (6, 'Баранов П.Е.', 'Р523ВТ', 'Превышение скорости(от 40 до 60)', 2000, '2020-02-14', '2020-03-06'),\n",
       " (7, 'Абрамова К.А.', 'О111АВ', 'Проезд на запрещающий сигнал', 2000, '2020-02-23', None),\n",
       " (8, 'Яковлев Г.Р.', 'Т330ТТ', 'Проезд на запрещающий сигнал', 500, '2020-03-03', '2020-03-23')]"
      ]
     },
     "execution_count": 84,
     "metadata": {},
     "output_type": "execute_result"
    }
   ],
   "source": [
    "%%sql\n",
    "DELETE FROM fine\n",
    " WHERE date_violation < '2020-02-01';\n",
    "\n",
    "SELECT * FROM fine"
   ]
  },
  {
   "cell_type": "code",
   "execution_count": null,
   "id": "7f251dfa",
   "metadata": {},
   "outputs": [],
   "source": []
  }
 ],
 "metadata": {
  "kernelspec": {
   "display_name": "Python 3 (ipykernel)",
   "language": "python",
   "name": "python3"
  },
  "language_info": {
   "codemirror_mode": {
    "name": "ipython",
    "version": 3
   },
   "file_extension": ".py",
   "mimetype": "text/x-python",
   "name": "python",
   "nbconvert_exporter": "python",
   "pygments_lexer": "ipython3",
   "version": "3.9.7"
  }
 },
 "nbformat": 4,
 "nbformat_minor": 5
}
